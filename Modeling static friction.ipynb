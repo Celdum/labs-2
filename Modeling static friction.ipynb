{
 "cells": [
  {
   "cell_type": "markdown",
   "metadata": {},
   "source": [
    "Andres Heredia, Esteban Martinez"
   ]
  },
  {
   "cell_type": "markdown",
   "metadata": {},
   "source": [
    "# Introduction\n",
    "\n",
    "Our experiment will help us model the relation between mass and static friction. We will see what is the maximum force that can be applied to an object before it moves something."
   ]
  },
  {
   "cell_type": "markdown",
   "metadata": {
    "collapsed": true
   },
   "source": [
    "# Procedure\n",
    "\n",
    "In order to measure the static friction we hooked a spring scale to a box where we put weights. \n",
    "Steps:\n",
    " 1. Hook the scale to the box\n",
    " 2. Make sure that the scale is set to zero\n",
    " 3. Place the weight on the box\n",
    " 4. Pull the scale until the box moves\n",
    " "
   ]
  },
  {
   "cell_type": "markdown",
   "metadata": {
    "collapsed": true
   },
   "source": [
    "\n",
    "\n",
    "| mass (g) \t| Force (N)\t|\n",
    "|-----\t|---\t|\n",
    "| 100 \t| .4  \t|\n",
    "| 200 \t|   .8\t|\n",
    "| 300 \t|   1.2\t|\n",
    "| 400 \t| 1.75  |\n",
    "| 500 \t| 2.2  \t|\n",
    "\n",
    "\n",
    "\n",
    "\n"
   ]
  },
  {
   "cell_type": "code",
   "execution_count": 3,
   "metadata": {
    "collapsed": true
   },
   "outputs": [],
   "source": [
    "%matplotlib inline"
   ]
  },
  {
   "cell_type": "markdown",
   "metadata": {
    "collapsed": true
   },
   "source": [
    "# Data Analysis"
   ]
  },
  {
   "cell_type": "code",
   "execution_count": 23,
   "metadata": {
    "collapsed": false
   },
   "outputs": [
    {
     "name": "stdout",
     "output_type": "stream",
     "text": [
      "0.00441428571211 -0.0452380952403\n"
     ]
    },
    {
     "data": {
      "text/plain": [
       "[<matplotlib.lines.Line2D at 0x9397550>]"
      ]
     },
     "execution_count": 23,
     "metadata": {},
     "output_type": "execute_result"
    },
    {
     "data": {
      "image/png": "[encoded data removed]",
      "text/plain": [
       "<matplotlib.figure.Figure at 0x9397908>"
      ]
     },
     "metadata": {},
     "output_type": "display_data"
    }
   ],
   "source": [
    "import matplotlib.pyplot as plt\n",
    "import numpy as np\n",
    "from scipy.optimize import curve_fit\n",
    "\n",
    "mass = [0, 100, 200, 300, 400, 500]\n",
    "force = [0, .4, .8, 1.2, 1.75, 2.2]\n",
    "\n",
    "xx = np.linspace(0,600,10)\n",
    "\n",
    "def lin_model( x, a, b):\n",
    "    return a*x + b\n",
    "a,b = curve_fit(lin_model, mass, force)[0]\n",
    "print(a,b)\n",
    "plt.title('The Relationship Between Static Friction and Mass')\n",
    "plt.ylabel ('Force (N)')\n",
    "plt.xlabel ('Mass (g)')\n",
    "plt.plot(xx, lin_model(xx, a, b))\n",
    "plt.plot(mass,force,'go')"
   ]
  },
  {
   "cell_type": "code",
   "execution_count": null,
   "metadata": {
    "collapsed": true
   },
   "outputs": [],
   "source": []
  }
 ],
 "metadata": {
  "kernelspec": {
   "display_name": "Python 3",
   "language": "python",
   "name": "python3"
  },
  "language_info": {
   "codemirror_mode": {
    "name": "ipython",
    "version": 3
   },
   "file_extension": ".py",
   "mimetype": "text/x-python",
   "name": "python",
   "nbconvert_exporter": "python",
   "pygments_lexer": "ipython3",
   "version": "3.4.4"
  }
 },
 "nbformat": 4,
 "nbformat_minor": 0
}
