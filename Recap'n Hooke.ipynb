{
 "cells": [
  {
   "cell_type": "code",
   "execution_count": 1,
   "metadata": {
    "collapsed": true
   },
   "outputs": [],
   "source": [
    "%matplotlib inline"
   ]
  },
  {
   "cell_type": "markdown",
   "metadata": {},
   "source": [
    "# Springs: How do they work?"
   ]
  },
  {
   "cell_type": "markdown",
   "metadata": {},
   "source": [
    "### Introduction"
   ]
  },
  {
   "cell_type": "markdown",
   "metadata": {},
   "source": [
    "In this investigation, we'll determine how the restoring force of a spring depends on its displacement from equilibrium. "
   ]
  },
  {
   "cell_type": "markdown",
   "metadata": {},
   "source": [
    "### Procedure"
   ]
  },
  {
   "cell_type": "markdown",
   "metadata": {},
   "source": []
  },
  {
   "cell_type": "markdown",
   "metadata": {},
   "source": [
    "### Data & Analysis"
   ]
  },
  {
   "cell_type": "markdown",
   "metadata": {},
   "source": [
    "| m (g) \t| x (cm)\t|\n",
    "|-----\t|---\t|\n",
    "| 50  \t| .6  \t|\n",
    "| 100 \t| 1.2  \t|\n",
    "| 150 \t|  1.9 \t|\n",
    "| 200 \t|   2.6\t|\n",
    "| 250 \t| 3.3  \t|\n",
    "| 300 \t|   4\t|\n",
    "| 350 \t| 4.9  \t|\n",
    "| 400 \t| 5.6  \t|"
   ]
  },
  {
   "cell_type": "code",
   "execution_count": 39,
   "metadata": {
    "collapsed": false,
    "scrolled": false
   },
   "outputs": [
    {
     "name": "stdout",
     "output_type": "stream",
     "text": [
      "0.0140999999978 -0.142222222225\n"
     ]
    },
    {
     "data": {
      "text/plain": [
       "[<matplotlib.lines.Line2D at 0x9199080>]"
      ]
     },
     "execution_count": 39,
     "metadata": {},
     "output_type": "execute_result"
    },
    {
     "data": {
      "image/png": "[encoded data removed]",
      "text/plain": [
       "<matplotlib.figure.Figure at 0x7c11908>"
      ]
     },
     "metadata": {},
     "output_type": "display_data"
    }
   ],
   "source": [
    "import matplotlib.pyplot as plt\n",
    "import numpy as np\n",
    "from scipy.optimize import curve_fit\n",
    "\n",
    "#------------------------------\n",
    "#Write your plot/fit code below\n",
    "#------------------------------\n",
    "falcons = [0, 50, 100, 150, 200, 250, 300, 350, 400]\n",
    "displacement = [0,.6,1.2,1.9,2.6,3.3,4,4.9,5.6]\n",
    "\n",
    "xx = np.linspace(0,500,10)\n",
    "def lin_model( x, a, b):\n",
    "    return a*x + b\n",
    "a,b = curve_fit(lin_model, falcons, displacement)[0]\n",
    "print(a,b)\n",
    "plt.title('')\n",
    "plt.ylabel ('distance (cm)')\n",
    "plt.xlabel ('weight (g)')\n",
    "plt.plot(xx, lin_model(xx, a, b))\n",
    "plt.plot(falcons,displacement,'.')"
   ]
  },
  {
   "cell_type": "markdown",
   "metadata": {},
   "source": [
    "$$y=0.0140999999978x-0.142222222225$$"
   ]
  },
  {
   "cell_type": "markdown",
   "metadata": {},
   "source": [
    "# Results"
   ]
  },
  {
   "cell_type": "markdown",
   "metadata": {},
   "source": [
    "Our experiment shows the amount of weight put on a string is proportional to how much it is displaced. We yielded an equation where the relation between weight and distance is linear, which was $y=0.014098x−0.142$. "
   ]
  },
  {
   "cell_type": "code",
   "execution_count": null,
   "metadata": {
    "collapsed": true
   },
   "outputs": [],
   "source": []
  }
 ],
 "metadata": {
  "kernelspec": {
   "display_name": "Python 3",
   "language": "python",
   "name": "python3"
  },
  "language_info": {
   "codemirror_mode": {
    "name": "ipython",
    "version": 3
   },
   "file_extension": ".py",
   "mimetype": "text/x-python",
   "name": "python",
   "nbconvert_exporter": "python",
   "pygments_lexer": "ipython3",
   "version": "3.4.4"
  }
 },
 "nbformat": 4,
 "nbformat_minor": 1
}
